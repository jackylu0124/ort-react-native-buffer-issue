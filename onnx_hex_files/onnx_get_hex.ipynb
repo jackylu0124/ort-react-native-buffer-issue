{
 "cells": [
  {
   "cell_type": "code",
   "execution_count": 1,
   "metadata": {},
   "outputs": [
    {
     "name": "stdout",
     "output_type": "stream",
     "text": [
      "type(model_in_bytes): <class 'bytes'>\n",
      "type(model_in_bytes_hex): <class 'str'>\n",
      "6880\n"
     ]
    }
   ],
   "source": [
    "ONNX_PATH = \"LinearBlend_v001.ort\"\n",
    "HEX_CONTENT_PATH = \"LinearBlend_v001.txt\"\n",
    "\n",
    "with open(ONNX_PATH, \"rb\") as fread:\n",
    "    model_in_bytes = fread.read()\n",
    "    print(\"type(model_in_bytes):\", type(model_in_bytes))\n",
    "    model_in_bytes_hex = model_in_bytes.hex()\n",
    "    print(\"type(model_in_bytes_hex):\", type(model_in_bytes_hex))\n",
    "    print(len(model_in_bytes_hex))\n",
    "\n",
    "with open(ONNX_PATH, \"rb\") as fread, open(HEX_CONTENT_PATH, \"w\") as fwrite:\n",
    "    model_in_bytes = fread.read()\n",
    "    model_in_bytes_hex = model_in_bytes.hex()\n",
    "    fwrite.write(model_in_bytes_hex)"
   ]
  }
 ],
 "metadata": {
  "kernelspec": {
   "display_name": "Python 3.9.12 64-bit",
   "language": "python",
   "name": "python3"
  },
  "language_info": {
   "codemirror_mode": {
    "name": "ipython",
    "version": 3
   },
   "file_extension": ".py",
   "mimetype": "text/x-python",
   "name": "python",
   "nbconvert_exporter": "python",
   "pygments_lexer": "ipython3",
   "version": "3.9.12"
  },
  "orig_nbformat": 4,
  "vscode": {
   "interpreter": {
    "hash": "1eed91afb51f0ffacadc1f53d163f0a49d2006e1201a429bef6ed9d70525a213"
   }
  }
 },
 "nbformat": 4,
 "nbformat_minor": 2
}
